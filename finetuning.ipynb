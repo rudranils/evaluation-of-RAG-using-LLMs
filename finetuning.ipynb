{
 "cells": [
  {
   "cell_type": "code",
   "execution_count": 1,
   "metadata": {},
   "outputs": [],
   "source": [
    "import pandas as pd"
   ]
  },
  {
   "cell_type": "code",
   "execution_count": 28,
   "metadata": {},
   "outputs": [],
   "source": [
    "df = pd.read_csv(\"trainingmain.csv\")"
   ]
  },
  {
   "cell_type": "code",
   "execution_count": 29,
   "metadata": {},
   "outputs": [
    {
     "data": {
      "text/html": [
       "<div>\n",
       "<style scoped>\n",
       "    .dataframe tbody tr th:only-of-type {\n",
       "        vertical-align: middle;\n",
       "    }\n",
       "\n",
       "    .dataframe tbody tr th {\n",
       "        vertical-align: top;\n",
       "    }\n",
       "\n",
       "    .dataframe thead th {\n",
       "        text-align: right;\n",
       "    }\n",
       "</style>\n",
       "<table border=\"1\" class=\"dataframe\">\n",
       "  <thead>\n",
       "    <tr style=\"text-align: right;\">\n",
       "      <th></th>\n",
       "      <th>Unnamed: 0</th>\n",
       "      <th>question</th>\n",
       "      <th>contexts</th>\n",
       "      <th>ground_truth</th>\n",
       "      <th>answers</th>\n",
       "    </tr>\n",
       "  </thead>\n",
       "  <tbody>\n",
       "    <tr>\n",
       "      <th>0</th>\n",
       "      <td>0</td>\n",
       "      <td>How can the serum half-life of nanobody candid...</td>\n",
       "      <td>[' , at the cost of a shortened in vivo half-l...</td>\n",
       "      <td>Linking a nanobody to anti-human serum albumin...</td>\n",
       "      <td>The serum half-life of nanobody candidates can...</td>\n",
       "    </tr>\n",
       "    <tr>\n",
       "      <th>1</th>\n",
       "      <td>2</td>\n",
       "      <td>How do functional changes in VSS affect visual...</td>\n",
       "      <td>[' increase in alpha-gamma phase-amplitude cou...</td>\n",
       "      <td>Functional changes in VSS affect visual proces...</td>\n",
       "      <td>Functional changes in Visual Snow Syndrome (VS...</td>\n",
       "    </tr>\n",
       "    <tr>\n",
       "      <th>2</th>\n",
       "      <td>4</td>\n",
       "      <td>What is the empirical variability among circul...</td>\n",
       "      <td>[' sequences extracted from GISAID to estimate...</td>\n",
       "      <td>The empirical variability among circulating SA...</td>\n",
       "      <td>The empirical variability among circulating SA...</td>\n",
       "    </tr>\n",
       "    <tr>\n",
       "      <th>3</th>\n",
       "      <td>5</td>\n",
       "      <td>What is the role of the antiviral response in ...</td>\n",
       "      <td>['-15 is involved in natural killer cell diffe...</td>\n",
       "      <td>The antiviral response plays a role in the imm...</td>\n",
       "      <td>The antiviral response in the immune system pl...</td>\n",
       "    </tr>\n",
       "    <tr>\n",
       "      <th>4</th>\n",
       "      <td>6</td>\n",
       "      <td>What is the appearance of the classic steric m...</td>\n",
       "      <td>[' bond length and angle values on the accessi...</td>\n",
       "      <td>The appearance of the classic steric map deriv...</td>\n",
       "      <td>The appearance of the classic steric map deriv...</td>\n",
       "    </tr>\n",
       "  </tbody>\n",
       "</table>\n",
       "</div>"
      ],
      "text/plain": [
       "   Unnamed: 0                                           question  \\\n",
       "0           0  How can the serum half-life of nanobody candid...   \n",
       "1           2  How do functional changes in VSS affect visual...   \n",
       "2           4  What is the empirical variability among circul...   \n",
       "3           5  What is the role of the antiviral response in ...   \n",
       "4           6  What is the appearance of the classic steric m...   \n",
       "\n",
       "                                            contexts  \\\n",
       "0  [' , at the cost of a shortened in vivo half-l...   \n",
       "1  [' increase in alpha-gamma phase-amplitude cou...   \n",
       "2  [' sequences extracted from GISAID to estimate...   \n",
       "3  ['-15 is involved in natural killer cell diffe...   \n",
       "4  [' bond length and angle values on the accessi...   \n",
       "\n",
       "                                        ground_truth  \\\n",
       "0  Linking a nanobody to anti-human serum albumin...   \n",
       "1  Functional changes in VSS affect visual proces...   \n",
       "2  The empirical variability among circulating SA...   \n",
       "3  The antiviral response plays a role in the imm...   \n",
       "4  The appearance of the classic steric map deriv...   \n",
       "\n",
       "                                             answers  \n",
       "0  The serum half-life of nanobody candidates can...  \n",
       "1  Functional changes in Visual Snow Syndrome (VS...  \n",
       "2  The empirical variability among circulating SA...  \n",
       "3  The antiviral response in the immune system pl...  \n",
       "4  The appearance of the classic steric map deriv...  "
      ]
     },
     "execution_count": 29,
     "metadata": {},
     "output_type": "execute_result"
    }
   ],
   "source": [
    "df.head()"
   ]
  },
  {
   "cell_type": "code",
   "execution_count": 30,
   "metadata": {},
   "outputs": [
    {
     "data": {
      "text/plain": [
       "Index(['Unnamed: 0', 'question', 'contexts', 'ground_truth', 'answers'], dtype='object')"
      ]
     },
     "execution_count": 30,
     "metadata": {},
     "output_type": "execute_result"
    }
   ],
   "source": [
    "df.columns"
   ]
  },
  {
   "cell_type": "code",
   "execution_count": 31,
   "metadata": {},
   "outputs": [],
   "source": [
    "df = df[['question', 'contexts', 'ground_truth', 'answers']]"
   ]
  },
  {
   "cell_type": "code",
   "execution_count": 32,
   "metadata": {},
   "outputs": [
    {
     "data": {
      "text/html": [
       "<div>\n",
       "<style scoped>\n",
       "    .dataframe tbody tr th:only-of-type {\n",
       "        vertical-align: middle;\n",
       "    }\n",
       "\n",
       "    .dataframe tbody tr th {\n",
       "        vertical-align: top;\n",
       "    }\n",
       "\n",
       "    .dataframe thead th {\n",
       "        text-align: right;\n",
       "    }\n",
       "</style>\n",
       "<table border=\"1\" class=\"dataframe\">\n",
       "  <thead>\n",
       "    <tr style=\"text-align: right;\">\n",
       "      <th></th>\n",
       "      <th>question</th>\n",
       "      <th>contexts</th>\n",
       "      <th>ground_truth</th>\n",
       "      <th>answers</th>\n",
       "    </tr>\n",
       "  </thead>\n",
       "  <tbody>\n",
       "    <tr>\n",
       "      <th>0</th>\n",
       "      <td>How can the serum half-life of nanobody candid...</td>\n",
       "      <td>[' , at the cost of a shortened in vivo half-l...</td>\n",
       "      <td>Linking a nanobody to anti-human serum albumin...</td>\n",
       "      <td>The serum half-life of nanobody candidates can...</td>\n",
       "    </tr>\n",
       "    <tr>\n",
       "      <th>1</th>\n",
       "      <td>How do functional changes in VSS affect visual...</td>\n",
       "      <td>[' increase in alpha-gamma phase-amplitude cou...</td>\n",
       "      <td>Functional changes in VSS affect visual proces...</td>\n",
       "      <td>Functional changes in Visual Snow Syndrome (VS...</td>\n",
       "    </tr>\n",
       "    <tr>\n",
       "      <th>2</th>\n",
       "      <td>What is the empirical variability among circul...</td>\n",
       "      <td>[' sequences extracted from GISAID to estimate...</td>\n",
       "      <td>The empirical variability among circulating SA...</td>\n",
       "      <td>The empirical variability among circulating SA...</td>\n",
       "    </tr>\n",
       "    <tr>\n",
       "      <th>3</th>\n",
       "      <td>What is the role of the antiviral response in ...</td>\n",
       "      <td>['-15 is involved in natural killer cell diffe...</td>\n",
       "      <td>The antiviral response plays a role in the imm...</td>\n",
       "      <td>The antiviral response in the immune system pl...</td>\n",
       "    </tr>\n",
       "    <tr>\n",
       "      <th>4</th>\n",
       "      <td>What is the appearance of the classic steric m...</td>\n",
       "      <td>[' bond length and angle values on the accessi...</td>\n",
       "      <td>The appearance of the classic steric map deriv...</td>\n",
       "      <td>The appearance of the classic steric map deriv...</td>\n",
       "    </tr>\n",
       "  </tbody>\n",
       "</table>\n",
       "</div>"
      ],
      "text/plain": [
       "                                            question  \\\n",
       "0  How can the serum half-life of nanobody candid...   \n",
       "1  How do functional changes in VSS affect visual...   \n",
       "2  What is the empirical variability among circul...   \n",
       "3  What is the role of the antiviral response in ...   \n",
       "4  What is the appearance of the classic steric m...   \n",
       "\n",
       "                                            contexts  \\\n",
       "0  [' , at the cost of a shortened in vivo half-l...   \n",
       "1  [' increase in alpha-gamma phase-amplitude cou...   \n",
       "2  [' sequences extracted from GISAID to estimate...   \n",
       "3  ['-15 is involved in natural killer cell diffe...   \n",
       "4  [' bond length and angle values on the accessi...   \n",
       "\n",
       "                                        ground_truth  \\\n",
       "0  Linking a nanobody to anti-human serum albumin...   \n",
       "1  Functional changes in VSS affect visual proces...   \n",
       "2  The empirical variability among circulating SA...   \n",
       "3  The antiviral response plays a role in the imm...   \n",
       "4  The appearance of the classic steric map deriv...   \n",
       "\n",
       "                                             answers  \n",
       "0  The serum half-life of nanobody candidates can...  \n",
       "1  Functional changes in Visual Snow Syndrome (VS...  \n",
       "2  The empirical variability among circulating SA...  \n",
       "3  The antiviral response in the immune system pl...  \n",
       "4  The appearance of the classic steric map deriv...  "
      ]
     },
     "execution_count": 32,
     "metadata": {},
     "output_type": "execute_result"
    }
   ],
   "source": [
    "df.head()"
   ]
  },
  {
   "cell_type": "code",
   "execution_count": 33,
   "metadata": {},
   "outputs": [],
   "source": [
    "def convert_to_gpt35_format(dataset):\n",
    "    fine_tuning_data = []\n",
    "    for _, row in dataset.iterrows():\n",
    "        json_response = '{\"Answers\": \"' + row['answers'] + '\"}'\n",
    "        fine_tuning_data.append({\n",
    "            \"messages\": [\n",
    "                {\"role\": \"user\", \"content\": row['question']},\n",
    "                {\"role\": \"assistant\", \"content\": json_response},\n",
    "            ]\n",
    "        })\n",
    "    return fine_tuning_data\n"
   ]
  },
  {
   "cell_type": "code",
   "execution_count": 34,
   "metadata": {},
   "outputs": [],
   "source": [
    "converted_data = convert_to_gpt35_format(df)"
   ]
  },
  {
   "cell_type": "code",
   "execution_count": 35,
   "metadata": {},
   "outputs": [],
   "source": [
    "from sklearn.model_selection import train_test_split\n",
    "\n",
    "# Stratified splitting. Assuming 'Top Category' can be used for stratification\n",
    "train_data, val_data = train_test_split(\n",
    "    converted_data,\n",
    "    test_size=0.2,\n",
    "    random_state=42  # for reproducibility\n",
    ")\n"
   ]
  },
  {
   "cell_type": "code",
   "execution_count": 36,
   "metadata": {},
   "outputs": [],
   "source": [
    "import json\n",
    "def write_to_jsonl(data, file_path):\n",
    "    with open(file_path, 'w') as file:\n",
    "        for entry in data:\n",
    "            json.dump(entry, file)\n",
    "            file.write('\\n')\n",
    "\n",
    "training_file_name = \"train.jsonl\"\n",
    "validation_file_name = \"val.jsonl\"\n",
    "\n",
    "write_to_jsonl(train_data, training_file_name)\n",
    "write_to_jsonl(val_data, validation_file_name)\n"
   ]
  },
  {
   "cell_type": "code",
   "execution_count": 47,
   "metadata": {},
   "outputs": [],
   "source": [
    "from openai import OpenAI\n",
    "client = OpenAI(api_key=\"\")\n",
    "\n",
    "# Upload Training and Validation Files\n",
    "training_file = client.files.create(\n",
    "    file=open(training_file_name, \"rb\"), purpose=\"fine-tune\"\n",
    ")\n",
    "validation_file = client.files.create(\n",
    "    file=open(validation_file_name, \"rb\"), purpose=\"fine-tune\"\n",
    ")\n",
    "\n",
    "# Create Fine-Tuning Job\n",
    "suffix_name = \"FineTuning Covid19\"\n",
    "response = client.fine_tuning.jobs.create(\n",
    "    training_file=training_file.id,\n",
    "    validation_file=validation_file.id,\n",
    "    model=\"gpt-3.5-turbo\",\n",
    "    suffix=suffix_name,\n",
    ")\n"
   ]
  },
  {
   "cell_type": "code",
   "execution_count": 44,
   "metadata": {},
   "outputs": [
    {
     "data": {
      "text/plain": [
       "FineTuningJob(id='ftjob-wP6Njro7tMGErH0buGUUp6rb', created_at=1710583315, error=Error(code=None, message=None, param=None, error=None), fine_tuned_model=None, finished_at=None, hyperparameters=Hyperparameters(n_epochs='auto', batch_size='auto', learning_rate_multiplier='auto'), model='gpt-3.5-turbo-0125', object='fine_tuning.job', organization_id='org-QGMQNqzO5AZpg9xl00oxeaGx', result_files=[], status='validating_files', trained_tokens=None, training_file='file-ymqZfdy9kxlGt8YuXxkVIXwe', validation_file='file-UhdBHRAdYUc5gcp4CbuCQo21', user_provided_suffix='FineTuning Covid19')"
      ]
     },
     "execution_count": 44,
     "metadata": {},
     "output_type": "execute_result"
    }
   ],
   "source": [
    "response"
   ]
  },
  {
   "cell_type": "code",
   "execution_count": 48,
   "metadata": {},
   "outputs": [
    {
     "data": {
      "text/plain": [
       "SyncCursorPage[FineTuningJob](data=[FineTuningJob(id='ftjob-ptAeTbZEewoJMu3KJdUCUsOj', created_at=1710584025, error=Error(code=None, message=None, param=None, error=None), fine_tuned_model=None, finished_at=None, hyperparameters=Hyperparameters(n_epochs='auto', batch_size='auto', learning_rate_multiplier='auto'), model='gpt-3.5-turbo-0125', object='fine_tuning.job', organization_id='org-QGMQNqzO5AZpg9xl00oxeaGx', result_files=[], status='validating_files', trained_tokens=None, training_file='file-AUhAT9xiKcWzVFj7N7niokBP', validation_file='file-g9Nv6I8mSd16WzAZ3P4WbtzL', user_provided_suffix='FineTuning Covid19'), FineTuningJob(id='ftjob-wP6Njro7tMGErH0buGUUp6rb', created_at=1710583315, error=Error(code=None, message=None, param=None, error=None), fine_tuned_model=None, finished_at=None, hyperparameters=Hyperparameters(n_epochs=3, batch_size=1, learning_rate_multiplier=2), model='gpt-3.5-turbo-0125', object='fine_tuning.job', organization_id='org-QGMQNqzO5AZpg9xl00oxeaGx', result_files=[], status='running', trained_tokens=None, training_file='file-ymqZfdy9kxlGt8YuXxkVIXwe', validation_file='file-UhdBHRAdYUc5gcp4CbuCQo21', user_provided_suffix='FineTuning Covid19'), FineTuningJob(id='ftjob-2kDqHcUlgFBPsVtBuvo1bA0Q', created_at=1710341018, error=Error(code=None, message=None, param=None, error=None), fine_tuned_model='ft:gpt-3.5-turbo-0125:blenheim-chalcot:officemate:92KCZUdl', finished_at=1710341339, hyperparameters=Hyperparameters(n_epochs=3, batch_size=1, learning_rate_multiplier=2), model='gpt-3.5-turbo-0125', object='fine_tuning.job', organization_id='org-QGMQNqzO5AZpg9xl00oxeaGx', result_files=['file-y1FJqTxE0fmXRBkeweV2VgcF'], status='succeeded', trained_tokens=11061, training_file='file-2D63xrWKb0ziNobf3ZK6EYtC', validation_file=None, user_provided_suffix='OfficeMate'), FineTuningJob(id='ftjob-bnMLwmcuO8WZZ74h3vyxRidz', created_at=1710339575, error=Error(code=None, message=None, param=None, error=None), fine_tuned_model='ft:gpt-3.5-turbo-0125:blenheim-chalcot:officemate:92JolCLI', finished_at=1710339862, hyperparameters=Hyperparameters(n_epochs=3, batch_size=1, learning_rate_multiplier=2), model='gpt-3.5-turbo-0125', object='fine_tuning.job', organization_id='org-QGMQNqzO5AZpg9xl00oxeaGx', result_files=['file-sglD3Zk6OilOQb7C1jpnh6TT'], status='succeeded', trained_tokens=11061, training_file='file-37lo6YQWJh0Dh7pGXEqPQ2XY', validation_file=None, user_provided_suffix='OfficeMate'), FineTuningJob(id='ftjob-cT0DeqpR9XjkUWIYoJlASZXs', created_at=1710339455, error=Error(code=None, message=None, param=None, error=None), fine_tuned_model='ft:gpt-3.5-turbo-0125:blenheim-chalcot:office-mate:92JnPP04', finished_at=1710339778, hyperparameters=Hyperparameters(n_epochs=3, batch_size=1, learning_rate_multiplier=2), model='gpt-3.5-turbo-0125', object='fine_tuning.job', organization_id='org-QGMQNqzO5AZpg9xl00oxeaGx', result_files=['file-L37RwaGGzB5DhFXLfXBJXlu9'], status='succeeded', trained_tokens=11061, training_file='file-37lo6YQWJh0Dh7pGXEqPQ2XY', validation_file=None, user_provided_suffix='Office-Mate'), FineTuningJob(id='ftjob-1EkvoAhJ7dJn37aVIsI4nzg8', created_at=1710339212, error=Error(code=None, message=None, param=None, error=None), fine_tuned_model='ft:gpt-3.5-turbo-0125:blenheim-chalcot:officemate:92Jjqy5c', finished_at=1710339557, hyperparameters=Hyperparameters(n_epochs=3, batch_size=1, learning_rate_multiplier=2), model='gpt-3.5-turbo-0125', object='fine_tuning.job', organization_id='org-QGMQNqzO5AZpg9xl00oxeaGx', result_files=['file-tL5djYDmsEuaS19MnvP5XYQl'], status='succeeded', trained_tokens=11061, training_file='file-37lo6YQWJh0Dh7pGXEqPQ2XY', validation_file=None, user_provided_suffix='OfficeMate'), FineTuningJob(id='ftjob-NiMMQ3ai3DNx4k6TguMhxs8i', created_at=1710336147, error=Error(code=None, message=None, param=None, error=None), fine_tuned_model='ft:gpt-3.5-turbo-0125:blenheim-chalcot:officemate:92J0PnGB', finished_at=1710336740, hyperparameters=Hyperparameters(n_epochs=3, batch_size=1, learning_rate_multiplier=2), model='gpt-3.5-turbo-0125', object='fine_tuning.job', organization_id='org-QGMQNqzO5AZpg9xl00oxeaGx', result_files=['file-V5CneNtQVEoguIdaHjvPBkVl'], status='succeeded', trained_tokens=11061, training_file='file-XcihRh8xXt6woO0Wck6UBuYp', validation_file=None, user_provided_suffix='OfficeMate'), FineTuningJob(id='ftjob-sCVLzhCtaglw1pa9dQUTcZsC', created_at=1710336135, error=Error(code=None, message=None, param=None, error=None), fine_tuned_model='ft:gpt-3.5-turbo-0125:blenheim-chalcot:officemate:92J0EhZI', finished_at=1710336729, hyperparameters=Hyperparameters(n_epochs=3, batch_size=1, learning_rate_multiplier=2), model='gpt-3.5-turbo-0125', object='fine_tuning.job', organization_id='org-QGMQNqzO5AZpg9xl00oxeaGx', result_files=['file-l0gCIjugE6m9tO5PEzQh9vDw'], status='succeeded', trained_tokens=11061, training_file='file-XcihRh8xXt6woO0Wck6UBuYp', validation_file=None, user_provided_suffix='OfficeMate'), FineTuningJob(id='ftjob-QfrLcQfrQNGpWLrB3kIfYVOD', created_at=1705559978, error=Error(code=None, message=None, param=None, error=None), fine_tuned_model='ft:gpt-3.5-turbo-0613:blenheim-chalcot::8iGXsj5E', finished_at=1705560724, hyperparameters=Hyperparameters(n_epochs=3, batch_size=1, learning_rate_multiplier=2), model='gpt-3.5-turbo-0613', object='fine_tuning.job', organization_id='org-QGMQNqzO5AZpg9xl00oxeaGx', result_files=['file-8HoLlJOuE4vdcYHlG7wmSxb2'], status='succeeded', trained_tokens=30648, training_file='file-wjRJJuwOtCQNT2ui3rlgu28g', validation_file='file-VO22aZgWcNEd98cAdyDKpVn8', user_provided_suffix=None), FineTuningJob(id='ftjob-VEw30JtB3ApJ8z67CInB8uOx', created_at=1705484394, error=Error(code=None, message=None, param=None, error=None), fine_tuned_model='ft:gpt-3.5-turbo-0613:blenheim-chalcot::8hwrsg7f', finished_at=1705485083, hyperparameters=Hyperparameters(n_epochs=3, batch_size=1, learning_rate_multiplier=2), model='gpt-3.5-turbo-0613', object='fine_tuning.job', organization_id='org-QGMQNqzO5AZpg9xl00oxeaGx', result_files=['file-F8jCKQbyfF2zTo2RaNy6tlN7'], status='succeeded', trained_tokens=31149, training_file='file-dJVJzyGnmniXUerMJRQ1OXu0', validation_file='file-eiC1Z9gu0me9aArHK5BtbH6F', user_provided_suffix=None)], object='list', has_more=True)"
      ]
     },
     "execution_count": 48,
     "metadata": {},
     "output_type": "execute_result"
    }
   ],
   "source": [
    "client.fine_tuning.jobs.list(limit=10)"
   ]
  },
  {
   "cell_type": "code",
   "execution_count": 49,
   "metadata": {},
   "outputs": [
    {
     "data": {
      "text/plain": [
       "FineTuningJob(id='ftjob-wP6Njro7tMGErH0buGUUp6rb', created_at=1710583315, error=Error(code=None, message=None, param=None, error=None), fine_tuned_model=None, finished_at=None, hyperparameters=Hyperparameters(n_epochs=3, batch_size=1, learning_rate_multiplier=2), model='gpt-3.5-turbo-0125', object='fine_tuning.job', organization_id='org-QGMQNqzO5AZpg9xl00oxeaGx', result_files=[], status='running', trained_tokens=None, training_file='file-ymqZfdy9kxlGt8YuXxkVIXwe', validation_file='file-UhdBHRAdYUc5gcp4CbuCQo21', user_provided_suffix='FineTuning Covid19')"
      ]
     },
     "execution_count": 49,
     "metadata": {},
     "output_type": "execute_result"
    }
   ],
   "source": [
    "response = client.fine_tuning.jobs.retrieve(\"ftjob-wP6Njro7tMGErH0buGUUp6rb\")\n",
    "response"
   ]
  },
  {
   "cell_type": "code",
   "execution_count": 50,
   "metadata": {},
   "outputs": [
    {
     "name": "stdout",
     "output_type": "stream",
     "text": [
      "\n",
      "Fine-tuned model id: None\n"
     ]
    }
   ],
   "source": [
    "\n",
    "fine_tuned_model_id = response.fine_tuned_model\n",
    "print(\"\\nFine-tuned model id:\", fine_tuned_model_id)"
   ]
  },
  {
   "cell_type": "code",
   "execution_count": 51,
   "metadata": {},
   "outputs": [],
   "source": [
    "from sklearn.metrics import accuracy_score, precision_score, recall_score, f1_score\n",
    "\n",
    "def format_test(row):\n",
    "    formatted_message = [{\"role\": \"user\", \"content\": row['question']}]\n",
    "    return formatted_message\n",
    "\n",
    "def predict(test_messages, fine_tuned_model_id):\n",
    "    response = client.chat.completions.create(\n",
    "        model=fine_tuned_model_id, messages=test_messages, temperature=0, max_tokens=50\n",
    "    )\n",
    "    return response.choices[0].message.content\n",
    "\n",
    "def store_predictions(test_df, fine_tuned_model_id):\n",
    "    test_df['Prediction'] = None\n",
    "    for index, row in test_df.iterrows():\n",
    "        test_message = format_test(row)\n",
    "        prediction_result = predict(test_message, fine_tuned_model_id)\n",
    "        test_df.at[index, 'Prediction'] = prediction_result\n",
    "\n",
    "    test_df.to_csv(\"predictions.csv\")\n"
   ]
  },
  {
   "cell_type": "code",
   "execution_count": 53,
   "metadata": {},
   "outputs": [
    {
     "ename": "BadRequestError",
     "evalue": "Error code: 400 - {'error': {'message': 'you must provide a model parameter', 'type': 'invalid_request_error', 'param': None, 'code': None}}",
     "output_type": "error",
     "traceback": [
      "\u001b[0;31m---------------------------------------------------------------------------\u001b[0m",
      "\u001b[0;31mBadRequestError\u001b[0m                           Traceback (most recent call last)",
      "\u001b[1;32m/Users/rupeshyadav/Desktop/Rudranil/finetuning.ipynb Cell 17\u001b[0m line \u001b[0;36m2\n\u001b[1;32m      <a href='vscode-notebook-cell:/Users/rupeshyadav/Desktop/Rudranil/finetuning.ipynb#X23sZmlsZQ%3D%3D?line=0'>1</a>\u001b[0m test_df \u001b[39m=\u001b[39m pd\u001b[39m.\u001b[39mread_csv(\u001b[39m\"\u001b[39m\u001b[39mtest_df.csv\u001b[39m\u001b[39m\"\u001b[39m)\n\u001b[0;32m----> <a href='vscode-notebook-cell:/Users/rupeshyadav/Desktop/Rudranil/finetuning.ipynb#X23sZmlsZQ%3D%3D?line=1'>2</a>\u001b[0m store_predictions(test_df, fine_tuned_model_id)\n",
      "\u001b[1;32m/Users/rupeshyadav/Desktop/Rudranil/finetuning.ipynb Cell 17\u001b[0m line \u001b[0;36m1\n\u001b[1;32m     <a href='vscode-notebook-cell:/Users/rupeshyadav/Desktop/Rudranil/finetuning.ipynb#X23sZmlsZQ%3D%3D?line=14'>15</a>\u001b[0m \u001b[39mfor\u001b[39;00m index, row \u001b[39min\u001b[39;00m test_df\u001b[39m.\u001b[39miterrows():\n\u001b[1;32m     <a href='vscode-notebook-cell:/Users/rupeshyadav/Desktop/Rudranil/finetuning.ipynb#X23sZmlsZQ%3D%3D?line=15'>16</a>\u001b[0m     test_message \u001b[39m=\u001b[39m format_test(row)\n\u001b[0;32m---> <a href='vscode-notebook-cell:/Users/rupeshyadav/Desktop/Rudranil/finetuning.ipynb#X23sZmlsZQ%3D%3D?line=16'>17</a>\u001b[0m     prediction_result \u001b[39m=\u001b[39m predict(test_message, fine_tuned_model_id)\n\u001b[1;32m     <a href='vscode-notebook-cell:/Users/rupeshyadav/Desktop/Rudranil/finetuning.ipynb#X23sZmlsZQ%3D%3D?line=17'>18</a>\u001b[0m     test_df\u001b[39m.\u001b[39mat[index, \u001b[39m'\u001b[39m\u001b[39mPrediction\u001b[39m\u001b[39m'\u001b[39m] \u001b[39m=\u001b[39m prediction_result\n\u001b[1;32m     <a href='vscode-notebook-cell:/Users/rupeshyadav/Desktop/Rudranil/finetuning.ipynb#X23sZmlsZQ%3D%3D?line=19'>20</a>\u001b[0m test_df\u001b[39m.\u001b[39mto_csv(\u001b[39m\"\u001b[39m\u001b[39mpredictions.csv\u001b[39m\u001b[39m\"\u001b[39m)\n",
      "\u001b[1;32m/Users/rupeshyadav/Desktop/Rudranil/finetuning.ipynb Cell 17\u001b[0m line \u001b[0;36m8\n\u001b[1;32m      <a href='vscode-notebook-cell:/Users/rupeshyadav/Desktop/Rudranil/finetuning.ipynb#X23sZmlsZQ%3D%3D?line=6'>7</a>\u001b[0m \u001b[39mdef\u001b[39;00m \u001b[39mpredict\u001b[39m(test_messages, fine_tuned_model_id):\n\u001b[0;32m----> <a href='vscode-notebook-cell:/Users/rupeshyadav/Desktop/Rudranil/finetuning.ipynb#X23sZmlsZQ%3D%3D?line=7'>8</a>\u001b[0m     response \u001b[39m=\u001b[39m client\u001b[39m.\u001b[39;49mchat\u001b[39m.\u001b[39;49mcompletions\u001b[39m.\u001b[39;49mcreate(\n\u001b[1;32m      <a href='vscode-notebook-cell:/Users/rupeshyadav/Desktop/Rudranil/finetuning.ipynb#X23sZmlsZQ%3D%3D?line=8'>9</a>\u001b[0m         model\u001b[39m=\u001b[39;49mfine_tuned_model_id, messages\u001b[39m=\u001b[39;49mtest_messages, temperature\u001b[39m=\u001b[39;49m\u001b[39m0\u001b[39;49m, max_tokens\u001b[39m=\u001b[39;49m\u001b[39m50\u001b[39;49m\n\u001b[1;32m     <a href='vscode-notebook-cell:/Users/rupeshyadav/Desktop/Rudranil/finetuning.ipynb#X23sZmlsZQ%3D%3D?line=9'>10</a>\u001b[0m     )\n\u001b[1;32m     <a href='vscode-notebook-cell:/Users/rupeshyadav/Desktop/Rudranil/finetuning.ipynb#X23sZmlsZQ%3D%3D?line=10'>11</a>\u001b[0m     \u001b[39mreturn\u001b[39;00m response\u001b[39m.\u001b[39mchoices[\u001b[39m0\u001b[39m]\u001b[39m.\u001b[39mmessage\u001b[39m.\u001b[39mcontent\n",
      "File \u001b[0;32m~/Desktop/Rudranil/rudra/lib/python3.11/site-packages/openai/_utils/_utils.py:275\u001b[0m, in \u001b[0;36mrequired_args.<locals>.inner.<locals>.wrapper\u001b[0;34m(*args, **kwargs)\u001b[0m\n\u001b[1;32m    273\u001b[0m             msg \u001b[39m=\u001b[39m \u001b[39mf\u001b[39m\u001b[39m\"\u001b[39m\u001b[39mMissing required argument: \u001b[39m\u001b[39m{\u001b[39;00mquote(missing[\u001b[39m0\u001b[39m])\u001b[39m}\u001b[39;00m\u001b[39m\"\u001b[39m\n\u001b[1;32m    274\u001b[0m     \u001b[39mraise\u001b[39;00m \u001b[39mTypeError\u001b[39;00m(msg)\n\u001b[0;32m--> 275\u001b[0m \u001b[39mreturn\u001b[39;00m func(\u001b[39m*\u001b[39;49margs, \u001b[39m*\u001b[39;49m\u001b[39m*\u001b[39;49mkwargs)\n",
      "File \u001b[0;32m~/Desktop/Rudranil/rudra/lib/python3.11/site-packages/openai/resources/chat/completions.py:667\u001b[0m, in \u001b[0;36mCompletions.create\u001b[0;34m(self, messages, model, frequency_penalty, function_call, functions, logit_bias, logprobs, max_tokens, n, presence_penalty, response_format, seed, stop, stream, temperature, tool_choice, tools, top_logprobs, top_p, user, extra_headers, extra_query, extra_body, timeout)\u001b[0m\n\u001b[1;32m    615\u001b[0m \u001b[39m@required_args\u001b[39m([\u001b[39m\"\u001b[39m\u001b[39mmessages\u001b[39m\u001b[39m\"\u001b[39m, \u001b[39m\"\u001b[39m\u001b[39mmodel\u001b[39m\u001b[39m\"\u001b[39m], [\u001b[39m\"\u001b[39m\u001b[39mmessages\u001b[39m\u001b[39m\"\u001b[39m, \u001b[39m\"\u001b[39m\u001b[39mmodel\u001b[39m\u001b[39m\"\u001b[39m, \u001b[39m\"\u001b[39m\u001b[39mstream\u001b[39m\u001b[39m\"\u001b[39m])\n\u001b[1;32m    616\u001b[0m \u001b[39mdef\u001b[39;00m \u001b[39mcreate\u001b[39m(\n\u001b[1;32m    617\u001b[0m     \u001b[39mself\u001b[39m,\n\u001b[0;32m   (...)\u001b[0m\n\u001b[1;32m    665\u001b[0m     timeout: \u001b[39mfloat\u001b[39m \u001b[39m|\u001b[39m httpx\u001b[39m.\u001b[39mTimeout \u001b[39m|\u001b[39m \u001b[39mNone\u001b[39;00m \u001b[39m|\u001b[39m NotGiven \u001b[39m=\u001b[39m NOT_GIVEN,\n\u001b[1;32m    666\u001b[0m ) \u001b[39m-\u001b[39m\u001b[39m>\u001b[39m ChatCompletion \u001b[39m|\u001b[39m Stream[ChatCompletionChunk]:\n\u001b[0;32m--> 667\u001b[0m     \u001b[39mreturn\u001b[39;00m \u001b[39mself\u001b[39;49m\u001b[39m.\u001b[39;49m_post(\n\u001b[1;32m    668\u001b[0m         \u001b[39m\"\u001b[39;49m\u001b[39m/chat/completions\u001b[39;49m\u001b[39m\"\u001b[39;49m,\n\u001b[1;32m    669\u001b[0m         body\u001b[39m=\u001b[39;49mmaybe_transform(\n\u001b[1;32m    670\u001b[0m             {\n\u001b[1;32m    671\u001b[0m                 \u001b[39m\"\u001b[39;49m\u001b[39mmessages\u001b[39;49m\u001b[39m\"\u001b[39;49m: messages,\n\u001b[1;32m    672\u001b[0m                 \u001b[39m\"\u001b[39;49m\u001b[39mmodel\u001b[39;49m\u001b[39m\"\u001b[39;49m: model,\n\u001b[1;32m    673\u001b[0m                 \u001b[39m\"\u001b[39;49m\u001b[39mfrequency_penalty\u001b[39;49m\u001b[39m\"\u001b[39;49m: frequency_penalty,\n\u001b[1;32m    674\u001b[0m                 \u001b[39m\"\u001b[39;49m\u001b[39mfunction_call\u001b[39;49m\u001b[39m\"\u001b[39;49m: function_call,\n\u001b[1;32m    675\u001b[0m                 \u001b[39m\"\u001b[39;49m\u001b[39mfunctions\u001b[39;49m\u001b[39m\"\u001b[39;49m: functions,\n\u001b[1;32m    676\u001b[0m                 \u001b[39m\"\u001b[39;49m\u001b[39mlogit_bias\u001b[39;49m\u001b[39m\"\u001b[39;49m: logit_bias,\n\u001b[1;32m    677\u001b[0m                 \u001b[39m\"\u001b[39;49m\u001b[39mlogprobs\u001b[39;49m\u001b[39m\"\u001b[39;49m: logprobs,\n\u001b[1;32m    678\u001b[0m                 \u001b[39m\"\u001b[39;49m\u001b[39mmax_tokens\u001b[39;49m\u001b[39m\"\u001b[39;49m: max_tokens,\n\u001b[1;32m    679\u001b[0m                 \u001b[39m\"\u001b[39;49m\u001b[39mn\u001b[39;49m\u001b[39m\"\u001b[39;49m: n,\n\u001b[1;32m    680\u001b[0m                 \u001b[39m\"\u001b[39;49m\u001b[39mpresence_penalty\u001b[39;49m\u001b[39m\"\u001b[39;49m: presence_penalty,\n\u001b[1;32m    681\u001b[0m                 \u001b[39m\"\u001b[39;49m\u001b[39mresponse_format\u001b[39;49m\u001b[39m\"\u001b[39;49m: response_format,\n\u001b[1;32m    682\u001b[0m                 \u001b[39m\"\u001b[39;49m\u001b[39mseed\u001b[39;49m\u001b[39m\"\u001b[39;49m: seed,\n\u001b[1;32m    683\u001b[0m                 \u001b[39m\"\u001b[39;49m\u001b[39mstop\u001b[39;49m\u001b[39m\"\u001b[39;49m: stop,\n\u001b[1;32m    684\u001b[0m                 \u001b[39m\"\u001b[39;49m\u001b[39mstream\u001b[39;49m\u001b[39m\"\u001b[39;49m: stream,\n\u001b[1;32m    685\u001b[0m                 \u001b[39m\"\u001b[39;49m\u001b[39mtemperature\u001b[39;49m\u001b[39m\"\u001b[39;49m: temperature,\n\u001b[1;32m    686\u001b[0m                 \u001b[39m\"\u001b[39;49m\u001b[39mtool_choice\u001b[39;49m\u001b[39m\"\u001b[39;49m: tool_choice,\n\u001b[1;32m    687\u001b[0m                 \u001b[39m\"\u001b[39;49m\u001b[39mtools\u001b[39;49m\u001b[39m\"\u001b[39;49m: tools,\n\u001b[1;32m    688\u001b[0m                 \u001b[39m\"\u001b[39;49m\u001b[39mtop_logprobs\u001b[39;49m\u001b[39m\"\u001b[39;49m: top_logprobs,\n\u001b[1;32m    689\u001b[0m                 \u001b[39m\"\u001b[39;49m\u001b[39mtop_p\u001b[39;49m\u001b[39m\"\u001b[39;49m: top_p,\n\u001b[1;32m    690\u001b[0m                 \u001b[39m\"\u001b[39;49m\u001b[39muser\u001b[39;49m\u001b[39m\"\u001b[39;49m: user,\n\u001b[1;32m    691\u001b[0m             },\n\u001b[1;32m    692\u001b[0m             completion_create_params\u001b[39m.\u001b[39;49mCompletionCreateParams,\n\u001b[1;32m    693\u001b[0m         ),\n\u001b[1;32m    694\u001b[0m         options\u001b[39m=\u001b[39;49mmake_request_options(\n\u001b[1;32m    695\u001b[0m             extra_headers\u001b[39m=\u001b[39;49mextra_headers, extra_query\u001b[39m=\u001b[39;49mextra_query, extra_body\u001b[39m=\u001b[39;49mextra_body, timeout\u001b[39m=\u001b[39;49mtimeout\n\u001b[1;32m    696\u001b[0m         ),\n\u001b[1;32m    697\u001b[0m         cast_to\u001b[39m=\u001b[39;49mChatCompletion,\n\u001b[1;32m    698\u001b[0m         stream\u001b[39m=\u001b[39;49mstream \u001b[39mor\u001b[39;49;00m \u001b[39mFalse\u001b[39;49;00m,\n\u001b[1;32m    699\u001b[0m         stream_cls\u001b[39m=\u001b[39;49mStream[ChatCompletionChunk],\n\u001b[1;32m    700\u001b[0m     )\n",
      "File \u001b[0;32m~/Desktop/Rudranil/rudra/lib/python3.11/site-packages/openai/_base_client.py:1208\u001b[0m, in \u001b[0;36mSyncAPIClient.post\u001b[0;34m(self, path, cast_to, body, options, files, stream, stream_cls)\u001b[0m\n\u001b[1;32m   1194\u001b[0m \u001b[39mdef\u001b[39;00m \u001b[39mpost\u001b[39m(\n\u001b[1;32m   1195\u001b[0m     \u001b[39mself\u001b[39m,\n\u001b[1;32m   1196\u001b[0m     path: \u001b[39mstr\u001b[39m,\n\u001b[0;32m   (...)\u001b[0m\n\u001b[1;32m   1203\u001b[0m     stream_cls: \u001b[39mtype\u001b[39m[_StreamT] \u001b[39m|\u001b[39m \u001b[39mNone\u001b[39;00m \u001b[39m=\u001b[39m \u001b[39mNone\u001b[39;00m,\n\u001b[1;32m   1204\u001b[0m ) \u001b[39m-\u001b[39m\u001b[39m>\u001b[39m ResponseT \u001b[39m|\u001b[39m _StreamT:\n\u001b[1;32m   1205\u001b[0m     opts \u001b[39m=\u001b[39m FinalRequestOptions\u001b[39m.\u001b[39mconstruct(\n\u001b[1;32m   1206\u001b[0m         method\u001b[39m=\u001b[39m\u001b[39m\"\u001b[39m\u001b[39mpost\u001b[39m\u001b[39m\"\u001b[39m, url\u001b[39m=\u001b[39mpath, json_data\u001b[39m=\u001b[39mbody, files\u001b[39m=\u001b[39mto_httpx_files(files), \u001b[39m*\u001b[39m\u001b[39m*\u001b[39moptions\n\u001b[1;32m   1207\u001b[0m     )\n\u001b[0;32m-> 1208\u001b[0m     \u001b[39mreturn\u001b[39;00m cast(ResponseT, \u001b[39mself\u001b[39;49m\u001b[39m.\u001b[39;49mrequest(cast_to, opts, stream\u001b[39m=\u001b[39;49mstream, stream_cls\u001b[39m=\u001b[39;49mstream_cls))\n",
      "File \u001b[0;32m~/Desktop/Rudranil/rudra/lib/python3.11/site-packages/openai/_base_client.py:897\u001b[0m, in \u001b[0;36mSyncAPIClient.request\u001b[0;34m(self, cast_to, options, remaining_retries, stream, stream_cls)\u001b[0m\n\u001b[1;32m    888\u001b[0m \u001b[39mdef\u001b[39;00m \u001b[39mrequest\u001b[39m(\n\u001b[1;32m    889\u001b[0m     \u001b[39mself\u001b[39m,\n\u001b[1;32m    890\u001b[0m     cast_to: Type[ResponseT],\n\u001b[0;32m   (...)\u001b[0m\n\u001b[1;32m    895\u001b[0m     stream_cls: \u001b[39mtype\u001b[39m[_StreamT] \u001b[39m|\u001b[39m \u001b[39mNone\u001b[39;00m \u001b[39m=\u001b[39m \u001b[39mNone\u001b[39;00m,\n\u001b[1;32m    896\u001b[0m ) \u001b[39m-\u001b[39m\u001b[39m>\u001b[39m ResponseT \u001b[39m|\u001b[39m _StreamT:\n\u001b[0;32m--> 897\u001b[0m     \u001b[39mreturn\u001b[39;00m \u001b[39mself\u001b[39;49m\u001b[39m.\u001b[39;49m_request(\n\u001b[1;32m    898\u001b[0m         cast_to\u001b[39m=\u001b[39;49mcast_to,\n\u001b[1;32m    899\u001b[0m         options\u001b[39m=\u001b[39;49moptions,\n\u001b[1;32m    900\u001b[0m         stream\u001b[39m=\u001b[39;49mstream,\n\u001b[1;32m    901\u001b[0m         stream_cls\u001b[39m=\u001b[39;49mstream_cls,\n\u001b[1;32m    902\u001b[0m         remaining_retries\u001b[39m=\u001b[39;49mremaining_retries,\n\u001b[1;32m    903\u001b[0m     )\n",
      "File \u001b[0;32m~/Desktop/Rudranil/rudra/lib/python3.11/site-packages/openai/_base_client.py:988\u001b[0m, in \u001b[0;36mSyncAPIClient._request\u001b[0;34m(self, cast_to, options, remaining_retries, stream, stream_cls)\u001b[0m\n\u001b[1;32m    985\u001b[0m         err\u001b[39m.\u001b[39mresponse\u001b[39m.\u001b[39mread()\n\u001b[1;32m    987\u001b[0m     log\u001b[39m.\u001b[39mdebug(\u001b[39m\"\u001b[39m\u001b[39mRe-raising status error\u001b[39m\u001b[39m\"\u001b[39m)\n\u001b[0;32m--> 988\u001b[0m     \u001b[39mraise\u001b[39;00m \u001b[39mself\u001b[39m\u001b[39m.\u001b[39m_make_status_error_from_response(err\u001b[39m.\u001b[39mresponse) \u001b[39mfrom\u001b[39;00m \u001b[39mNone\u001b[39;00m\n\u001b[1;32m    990\u001b[0m \u001b[39mreturn\u001b[39;00m \u001b[39mself\u001b[39m\u001b[39m.\u001b[39m_process_response(\n\u001b[1;32m    991\u001b[0m     cast_to\u001b[39m=\u001b[39mcast_to,\n\u001b[1;32m    992\u001b[0m     options\u001b[39m=\u001b[39moptions,\n\u001b[0;32m   (...)\u001b[0m\n\u001b[1;32m    995\u001b[0m     stream_cls\u001b[39m=\u001b[39mstream_cls,\n\u001b[1;32m    996\u001b[0m )\n",
      "\u001b[0;31mBadRequestError\u001b[0m: Error code: 400 - {'error': {'message': 'you must provide a model parameter', 'type': 'invalid_request_error', 'param': None, 'code': None}}"
     ]
    }
   ],
   "source": [
    "test_df = pd.read_csv(\"test_df.csv\")\n",
    "store_predictions(test_df, fine_tuned_model_id)"
   ]
  },
  {
   "cell_type": "code",
   "execution_count": null,
   "metadata": {},
   "outputs": [],
   "source": [
    "df = pd.read_csv(\"train.csv\")\n",
    "df = df.dropna(subset=['ground_truth'])\n",
    "df = df[['question', 'contexts', 'ground_truth']]\n",
    "\n",
    "test_questions = df[\"question\"].values.tolist()\n",
    "test_groundtruths = df[\"ground_truth\"].values.tolist()\n",
    "\n",
    "answers = []\n",
    "contexts = []\n",
    "\n",
    "for question in test_questions:\n",
    "  response = qa.invoke({\"query\" : question})\n",
    "  answers.append(response[\"result\"])\n",
    "  contexts.append([context.page_content for context in response['source_documents']])\n"
   ]
  },
  {
   "cell_type": "code",
   "execution_count": null,
   "metadata": {},
   "outputs": [],
   "source": [
    "from datasets import Dataset\n",
    "\n",
    "response_dataset = Dataset.from_dict({\n",
    "    \"question\" : test_questions,\n",
    "    \"answer\" : answers,\n",
    "    \"contexts\" : contexts,\n",
    "    \"ground_truth\" : test_groundtruths\n",
    "})\n",
    "response_dataset[0]"
   ]
  }
 ],
 "metadata": {
  "kernelspec": {
   "display_name": "rudra",
   "language": "python",
   "name": "python3"
  },
  "language_info": {
   "codemirror_mode": {
    "name": "ipython",
    "version": 3
   },
   "file_extension": ".py",
   "mimetype": "text/x-python",
   "name": "python",
   "nbconvert_exporter": "python",
   "pygments_lexer": "ipython3",
   "version": "3.11.4"
  }
 },
 "nbformat": 4,
 "nbformat_minor": 2
}
